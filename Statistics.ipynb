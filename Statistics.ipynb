{
 "cells": [
  {
   "cell_type": "code",
   "execution_count": null,
   "id": "c10805e5-93de-439a-b259-2061209f2e89",
   "metadata": {},
   "outputs": [],
   "source": [
    "# Compare change in median/mean income, i.e. increase, decrease by groups i.e. men 65+ from 2015 to 2022\n",
    "\n",
    "# Compare change in specific pesticide sales as above\n",
    "\n",
    "#"
   ]
  }
 ],
 "metadata": {
  "kernelspec": {
   "display_name": "Python 3 (ipykernel)",
   "language": "python",
   "name": "python3"
  },
  "language_info": {
   "codemirror_mode": {
    "name": "ipython",
    "version": 3
   },
   "file_extension": ".py",
   "mimetype": "text/x-python",
   "name": "python",
   "nbconvert_exporter": "python",
   "pygments_lexer": "ipython3",
   "version": "3.9.13"
  }
 },
 "nbformat": 4,
 "nbformat_minor": 5
}
