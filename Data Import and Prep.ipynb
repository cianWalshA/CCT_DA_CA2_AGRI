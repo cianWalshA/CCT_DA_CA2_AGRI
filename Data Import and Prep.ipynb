{
 "cells": [
  {
   "cell_type": "markdown",
   "id": "0f665252-ae91-459c-9b0e-f77710af4cdd",
   "metadata": {},
   "source": [
    "# Section 0 Defining modules/libraries/functions"
   ]
  },
  {
   "cell_type": "code",
   "execution_count": 1,
   "id": "dde3c216-da33-42af-97d7-65eaaabaf8ad",
   "metadata": {},
   "outputs": [],
   "source": [
    "import glob\n",
    "import pandas as pd\n",
    "import numpy as np\n",
    "from pathlib import Path\n",
    "pd.options.display.max_rows = 4000\n"
   ]
  },
  {
   "cell_type": "code",
   "execution_count": 2,
   "id": "f0135390-2dd4-425c-97d0-e09365e5b218",
   "metadata": {},
   "outputs": [],
   "source": [
    "def missing_values_table(df):\n",
    "    mis_val = df.isnull().sum()\n",
    "    mis_val_percent = 100 * df.isnull().sum() / len(df)\n",
    "    mis_val_table = pd.concat([mis_val, mis_val_percent], axis=1)\n",
    "    mis_val_table_ren_columns = mis_val_table.rename(\n",
    "    columns = {0 : 'Missing Values', 1 : '% of Total Values'})\n",
    "    mis_val_table_ren_columns = mis_val_table_ren_columns[\n",
    "        mis_val_table_ren_columns.iloc[:,1] != 0].sort_values(\n",
    "    '% of Total Values', ascending=False).round(1)\n",
    "    print (\"Your selected dataframe has \" + str(df.shape[1]) + \" columns.\\n\"      \n",
    "        \"There are \" + str(mis_val_table_ren_columns.shape[0]) +\n",
    "            \" columns that have missing values.\")\n",
    "    return mis_val_table_ren_columns\n"
   ]
  },
  {
   "cell_type": "markdown",
   "id": "ab93dbd8-2981-42bf-b5d2-478fea6fdd62",
   "metadata": {},
   "source": [
    "# Section 1 Importing Data"
   ]
  },
  {
   "cell_type": "code",
   "execution_count": 3,
   "id": "4c96794a-4f9e-4138-b128-12f0cb804550",
   "metadata": {},
   "outputs": [],
   "source": [
    "cropsCodes = pd.read_csv(\"C:/Users/cianw/Documents/dataAnalytics/CA2/Data/Eurostat/Code Dictionary/crops.dic\", sep='\\t',names=['crops', 'crop_name'], header = None)\n",
    "strucproCodes = pd.read_csv(\"C:/Users/cianw/Documents/dataAnalytics/CA2/Data/Eurostat/Code Dictionary/strucpro.dic\",sep='\\t',names=['code', 'units'], header = None)\n",
    "unitCodes = pd.read_csv(\"C:/Users/cianw/Documents/dataAnalytics/CA2/Data/Eurostat/Code Dictionary/unit.dic\",sep='\\t',names=['code', 'units'], header = None)"
   ]
  },
  {
   "cell_type": "code",
   "execution_count": 4,
   "id": "3cd49d23-a721-4fa7-9dee-f986e705aa85",
   "metadata": {},
   "outputs": [],
   "source": [
    "\n",
    "#Organic Production Data\n",
    "stdProduction_path = Path(r\"C:\\Users\\cianw\\Documents\\dataAnalytics\\CA2\\Data\\Eurostat\\Agricultural Production\\Crops\\apro_cpsh1_linear.csv\")\n",
    "orgTonne_path= Path(r\"C:\\Users\\cianw\\Documents\\dataAnalytics\\CA2\\Data\\Eurostat\\Agricultural Production\\Crops\\org_croppro_linear.csv\")\n",
    "orgArea_path = Path(r\"C:\\Users\\cianw\\Documents\\dataAnalytics\\CA2\\Data\\Eurostat\\Agricultural Production\\Crops\\org_cropar_linear.csv\")\n",
    "\n",
    "#Harmonised Risk Index 1 Data\n",
    "hriPath = Path(r\"C:\\Users\\cianw\\Documents\\dataAnalytics\\CA2\\Data\\Eurostat\\Agricultural Production\\Crops\\Pesiticide Use Risk Indicator\\aei_hri_linear.csv\")\n",
    "\n",
    "#Organic Processors Data\n",
    "orgProcessors_path = Path(r\"C:\\Users\\cianw\\Documents\\dataAnalytics\\CA2\\Data\\Eurostat\\Agricultural Production\\Crops\\Organic Processors\\org_cpreact_linear.csv\")\n",
    "\n",
    "#Organic Area Utilisation Data\n",
    "orgAreaUtil_path = Path(r\"C:\\Users\\cianw\\Documents\\dataAnalytics\\CA2\\Data\\Eurostat\\Agricultural Production\\Crops\\Organic Area\\sdg_02_40_linear.csv\")\n",
    "\n",
    "#N and P Fertilizer Data\n",
    "fertUse_path = Path(r\"C:\\Users\\cianw\\Documents\\dataAnalytics\\CA2\\Data\\Eurostat\\Agricultural Production\\Crops\\Fertlizer Use\\aei_fm_usefert_linear.csv\")\n",
    "\n",
    "#Waste Generation Data\n",
    "wasteGeneration_path = Path(r\"C:\\Users\\cianw\\Documents\\dataAnalytics\\CA2\\Data\\Eurostat\\Resource Usage\\cei_pc034_linear.csv\")\n",
    "\n",
    "#National Productivity Data\n",
    "productivityIndex_Path = Path(r\"C:\\Users\\cianw\\Documents\\dataAnalytics\\CA2\\Data\\Eurostat\\Resource Usage\\cei_pc030_linear.csv\")\n",
    "\n",
    "#Country Gini Data\n",
    "countryGini_path = Path(r\"C:\\Users\\cianw\\Documents\\dataAnalytics\\CA2\\Data\\Eurostat\\Quality of Life\\tessi190_linear.csv\")\n",
    "\n",
    "#Employment Rate Data\n",
    "employmentRate_Path = Path(r\"C:\\Users\\cianw\\Documents\\dataAnalytics\\CA2\\Data\\Eurostat\\Economics\\tesem010_linear.csv\")\n",
    "\n",
    "#Median/Mean Income Data\n",
    "income_Path = Path(r\"C:\\Users\\cianw\\Documents\\dataAnalytics\\CA2\\Data\\Eurostat\\Economics\\ilc_di03_linear.csv\")\n",
    "\n",
    "#Biodiversity of Birds Data\n",
    "birdBiodiversity_Path = Path(r\"C:\\Users\\cianw\\Documents\\dataAnalytics\\CA2\\Data\\Eurostat\\Biodiversity Index\\env_bio2_linear.csv\")\n",
    "\n",
    "#Pesticide Sales\n",
    "pestSales_Path = Path(r\"C:\\Users\\cianw\\Documents\\dataAnalytics\\CA2\\Data\\Eurostat\\Agricultural Production\\Crops\\Pesticide Sales\\aei_fm_salpest09_linear.csv\")\n",
    "\n",
    "#Pesticide Use\n",
    "pestUse_Path = Path(r\"C:\\Users\\cianw\\Documents\\dataAnalytics\\CA2\\Data\\Eurostat\\Agricultural Production\\Crops\\aei_pestuse_linear.csv\")\n",
    "\n",
    "#Farm Structure\n",
    "farmStructure_Path = Path(r\"C:\\Users\\cianw\\Documents\\dataAnalytics\\CA2\\Data\\Eurostat\\Farm Structure\\ef_lac_main_linear.csv\");"
   ]
  },
  {
   "cell_type": "code",
   "execution_count": 5,
   "id": "0e69d845-743f-4159-a3d3-a2fbd17d8706",
   "metadata": {},
   "outputs": [
    {
     "data": {
      "text/html": [
       "<div>\n",
       "<style scoped>\n",
       "    .dataframe tbody tr th:only-of-type {\n",
       "        vertical-align: middle;\n",
       "    }\n",
       "\n",
       "    .dataframe tbody tr th {\n",
       "        vertical-align: top;\n",
       "    }\n",
       "\n",
       "    .dataframe thead th {\n",
       "        text-align: right;\n",
       "    }\n",
       "</style>\n",
       "<table border=\"1\" class=\"dataframe\">\n",
       "  <thead>\n",
       "    <tr style=\"text-align: right;\">\n",
       "      <th></th>\n",
       "      <th>TIME_PERIOD</th>\n",
       "      <th>harmRiskInd</th>\n",
       "    </tr>\n",
       "  </thead>\n",
       "  <tbody>\n",
       "    <tr>\n",
       "      <th>count</th>\n",
       "      <td>279.000000</td>\n",
       "      <td>279.000000</td>\n",
       "    </tr>\n",
       "    <tr>\n",
       "      <th>mean</th>\n",
       "      <td>2015.483871</td>\n",
       "      <td>91.487455</td>\n",
       "    </tr>\n",
       "    <tr>\n",
       "      <th>std</th>\n",
       "      <td>2.869887</td>\n",
       "      <td>25.975757</td>\n",
       "    </tr>\n",
       "    <tr>\n",
       "      <th>min</th>\n",
       "      <td>2011.000000</td>\n",
       "      <td>17.000000</td>\n",
       "    </tr>\n",
       "    <tr>\n",
       "      <th>25%</th>\n",
       "      <td>2013.000000</td>\n",
       "      <td>77.500000</td>\n",
       "    </tr>\n",
       "    <tr>\n",
       "      <th>50%</th>\n",
       "      <td>2015.000000</td>\n",
       "      <td>93.000000</td>\n",
       "    </tr>\n",
       "    <tr>\n",
       "      <th>75%</th>\n",
       "      <td>2018.000000</td>\n",
       "      <td>103.000000</td>\n",
       "    </tr>\n",
       "    <tr>\n",
       "      <th>max</th>\n",
       "      <td>2020.000000</td>\n",
       "      <td>242.000000</td>\n",
       "    </tr>\n",
       "  </tbody>\n",
       "</table>\n",
       "</div>"
      ],
      "text/plain": [
       "       TIME_PERIOD  harmRiskInd\n",
       "count   279.000000   279.000000\n",
       "mean   2015.483871    91.487455\n",
       "std       2.869887    25.975757\n",
       "min    2011.000000    17.000000\n",
       "25%    2013.000000    77.500000\n",
       "50%    2015.000000    93.000000\n",
       "75%    2018.000000   103.000000\n",
       "max    2020.000000   242.000000"
      ]
     },
     "execution_count": 5,
     "metadata": {},
     "output_type": "execute_result"
    }
   ],
   "source": [
    "#Harmonised Risk Index 1 Data\n",
    "hriPesticide = pd.read_csv(hriPath)\n",
    "hriPesticide = hriPesticide[hriPesticide['subst_cat'].isin(['HRI1'])]\n",
    "hriPesticide = hriPesticide[~hriPesticide['geo'].isin(['EU', 'EU27_2020', 'EU28'])]\n",
    "hriPesticide = hriPesticide.drop(columns = ['DATAFLOW', 'LAST UPDATE', 'freq', 'unit', 'OBS_FLAG'])\n",
    "hriPesticide = hriPesticide.rename(columns={\"OBS_VALUE\":\"harmRiskInd\"})\n",
    "#print(hriPesticide.groupby('TIME_PERIOD').geo.nunique())\n",
    "#hriPesticide.shape\n",
    "#hriPesticide.info()\n",
    "hriPesticide.describe()\n",
    "#hriPesticide.head(25)"
   ]
  },
  {
   "cell_type": "code",
   "execution_count": 6,
   "id": "edbe40bd-3431-4873-aa45-d7cc47b0749f",
   "metadata": {},
   "outputs": [
    {
     "data": {
      "text/plain": [
       "(262, 4)"
      ]
     },
     "execution_count": 6,
     "metadata": {},
     "output_type": "execute_result"
    }
   ],
   "source": [
    "#Organic Processors\n",
    "orgProcessors = pd.read_csv(orgProcessors_path)\n",
    "orgProcessors  = orgProcessors[orgProcessors['nace_r2'].isin(['C103'])]\n",
    "orgProcessors  = orgProcessors[orgProcessors['unit'].isin(['NR'])]\n",
    "orgProcessors = orgProcessors.drop(columns = ['DATAFLOW', 'LAST UPDATE','freq', 'unit', 'OBS_FLAG'])\n",
    "orgProcessors = orgProcessors.rename(columns={\"OBS_VALUE\":\"numOrganicProcessors\"})\n",
    "#print(orgProcessors.groupby('TIME_PERIOD').geo.size())\n",
    "#print(orgProcessors.groupby('TIME_PERIOD').geo.nunique())\n",
    "#print(orgProcessors.groupby(['TIME_PERIOD', 'geo']).geo.size())\n",
    "orgProcessors.shape\n",
    "#orgProcessors.info()\n",
    "#orgProcessors.head()"
   ]
  },
  {
   "cell_type": "code",
   "execution_count": 7,
   "id": "cc966e49-9c24-4fc2-b9d0-73ea19e6ff0b",
   "metadata": {},
   "outputs": [],
   "source": [
    "#Organic Area Utilisation Data\n",
    "orgAreaUtil = pd.read_csv(orgAreaUtil_path)\n",
    "orgAreaUtil = orgAreaUtil.drop(columns = ['DATAFLOW', 'LAST UPDATE', 'crops','freq', 'agprdmet', 'unit', 'OBS_FLAG'])\n",
    "orgAreaUtil = orgAreaUtil.rename(columns={\"OBS_VALUE\":\"areaUsedForOrganic_PCT\"})\n",
    "#orgAreaUtil.shape\n",
    "#orgAreaUtil.info()\n",
    "#orgAreaUtil.head(10)"
   ]
  },
  {
   "cell_type": "markdown",
   "id": "060d51dd",
   "metadata": {},
   "source": [
    "Can apply an interesting step here by using left joins to exclude unwanted data later.\n",
    "\n",
    "The dataset imported and pivoted/transposed below contains more than just the Countries required, it contains subdivisions indicated by numbers beside the country name. Instead of manually writing code that excludes these cases, this set will be left joined later, which will exclude the data automatically."
   ]
  },
  {
   "cell_type": "code",
   "execution_count": 8,
   "id": "423e14a9",
   "metadata": {},
   "outputs": [],
   "source": [
    "#N and P Fertilizer Data\n",
    "fertUse = pd.read_csv(fertUse_path)\n",
    "fertUse = fertUse.drop(columns = ['DATAFLOW', 'LAST UPDATE', 'freq', 'unit', 'OBS_FLAG'])\n",
    "fertUse = fertUse.pivot(index=['geo', 'TIME_PERIOD'], columns='nutrient', values='OBS_VALUE').reset_index() \n",
    "fertUse = fertUse.rename(columns={\"N\":\"N_use_tonne\",\n",
    "                                 \"P\":\"P_use_tonne\"})\n",
    "#print(fertUseGroup3.groupby('TIME_PERIOD').geo.nunique())\n",
    "#fertUse.shape\n",
    "#fertUse.info()"
   ]
  },
  {
   "cell_type": "markdown",
   "id": "ce4fce8e",
   "metadata": {},
   "source": [
    "Below I am imputing the missing odd years by averaging the two around it. By treating the numbers as a trend."
   ]
  },
  {
   "cell_type": "code",
   "execution_count": 9,
   "id": "b8f3e91c",
   "metadata": {},
   "outputs": [],
   "source": [
    "#Waste Generation Data\n",
    "wasteGeneration = pd.read_csv(wasteGeneration_path)\n",
    "wasteGeneration = wasteGeneration.drop(columns = ['DATAFLOW', 'LAST UPDATE','nace_r2', 'unit','freq', 'OBS_FLAG', 'hazard', 'waste'])\n",
    "wasteGeneration[\"waste_unit\"] = \"KG per Capita\"\n",
    "wasteGeneration = wasteGeneration.rename(columns={\"OBS_VALUE\":\"waste\"})\n",
    "\n",
    "wasteGeneration_lag = wasteGeneration\n",
    "wasteGeneration_lag['TIME_LAG'] = wasteGeneration_lag.groupby(['geo'])['TIME_PERIOD'].shift(1)\n",
    "wasteGeneration_lag['waste_lag'] = wasteGeneration_lag.groupby(['geo'])['waste'].shift(1)\n",
    "\n",
    "wasteGeneration_lag['waste_temp'] = ((wasteGeneration_lag['waste'] + wasteGeneration_lag['waste_lag'])/2)\n",
    "wasteGeneration_lag['TIME_PERIOD_temp'] = ((wasteGeneration_lag['TIME_PERIOD'] + wasteGeneration_lag['TIME_LAG'])/2)\n",
    "wasteGeneration_lag = wasteGeneration_lag.drop(columns = ['TIME_PERIOD', 'TIME_LAG','waste', 'waste_lag'])\n",
    "wasteGeneration_lag = wasteGeneration_lag.dropna()\n",
    "wasteGeneration_lag = wasteGeneration_lag.rename(columns={\"waste_temp\":\"waste\",\n",
    "                                                           \"TIME_PERIOD_temp\":\"TIME_PERIOD\"})\n",
    "wasteGeneration_lag['TIME_PERIOD'] = wasteGeneration_lag['TIME_PERIOD'].astype('int')\n",
    "wasteGeneration = pd.concat([wasteGeneration, wasteGeneration_lag], join='inner', ignore_index=True)\n",
    "\n",
    "#wasteGeneration.shape\n",
    "#wasteGeneration.info()"
   ]
  },
  {
   "cell_type": "code",
   "execution_count": 10,
   "id": "7b92e69a",
   "metadata": {},
   "outputs": [],
   "source": [
    "#National Productivity Data\n",
    "productivityIndex = pd.read_csv(productivityIndex_Path)\n",
    "productivityIndex  = productivityIndex[productivityIndex['unit'].isin(['PPS_KG'])]\n",
    "productivityIndex = productivityIndex.drop(columns = ['DATAFLOW', 'LAST UPDATE', 'unit','freq', 'OBS_FLAG'])\n",
    "productivityIndex[\"productivity_unit\"] = \"Purchase Power Standard Per KG\"\n",
    "productivityIndex = productivityIndex.rename(columns={\"OBS_VALUE\":\"productivity\"})\n",
    "#productivityIndex.shape\n",
    "#productivityIndex.info()\n",
    "#productivityIndex.head(20)"
   ]
  },
  {
   "cell_type": "code",
   "execution_count": 11,
   "id": "501eb89f",
   "metadata": {},
   "outputs": [],
   "source": [
    "#GINI index data\n",
    "countryGini = pd.read_csv(countryGini_path)\n",
    "\n",
    "countryGini = countryGini.drop(columns = ['DATAFLOW', 'LAST UPDATE', 'freq', 'indic_il', 'OBS_FLAG'])\n",
    "countryGini = countryGini.rename(columns={\"OBS_VALUE\":\"gini\"})\n",
    "\n",
    "#countryGini.shape\n",
    "#countryGini.info()"
   ]
  },
  {
   "cell_type": "code",
   "execution_count": 12,
   "id": "2da88573",
   "metadata": {},
   "outputs": [],
   "source": [
    "#Employment Rate Data\n",
    "emplyomentRate = pd.read_csv(employmentRate_Path)\n",
    "emplyomentRate = emplyomentRate.drop(columns = ['DATAFLOW', 'LAST UPDATE', 'freq', 'OBS_FLAG', 'age', 'unit', 'indic_em'])\n",
    "emplyomentRate = emplyomentRate.pivot(index=['geo', 'TIME_PERIOD'], columns='sex', values='OBS_VALUE').reset_index() \n",
    "emplyomentRate = emplyomentRate.rename(columns={\"T\":\"emplyomentRate_T\",\n",
    "                                               \"M\":\"emplyomentRate_M\",\n",
    "                                               \"F\":\"emplyomentRate_F\"})\n",
    "#emplyomentRate.shape\n",
    "#emplyomentRate.info()"
   ]
  },
  {
   "cell_type": "code",
   "execution_count": 13,
   "id": "2530a851",
   "metadata": {},
   "outputs": [],
   "source": [
    "#Median/Mean Income Data\n",
    "income = pd.read_csv(income_Path)\n",
    "income  = income[income['unit'].isin(['EUR'])]\n",
    "income  = income[income['age'].isin(['TOTAL'])]\n",
    "income = income.drop(columns = ['DATAFLOW', 'LAST UPDATE', 'freq', 'OBS_FLAG', 'age', 'unit'])\n",
    "income = income.pivot(index=['geo', 'TIME_PERIOD'], columns=['indic_il', 'sex'], values='OBS_VALUE').reset_index() \n",
    "income.columns = [''.join(col) for col in income.columns.values]\n",
    "#income.head()\n",
    "#income.shape\n",
    "#income.info()\n"
   ]
  },
  {
   "cell_type": "code",
   "execution_count": 14,
   "id": "ae215de8",
   "metadata": {},
   "outputs": [],
   "source": [
    "#Bird Biodiversity\n",
    "birdBiodiversity = pd.read_csv(birdBiodiversity_Path)\n",
    "birdBiodiversity = birdBiodiversity.drop(columns = ['DATAFLOW', 'LAST UPDATE', 'freq', 'OBS_FLAG', 'unit'])\n",
    "birdBiodiversity = birdBiodiversity.rename(columns={\"OBS_VALUE\":\"birdBiodiversityIndex\"})\n",
    "\n",
    "#birdBiodiversity.head()"
   ]
  },
  {
   "cell_type": "code",
   "execution_count": 15,
   "id": "48acbf30-ef27-461b-8bdf-01f53b377e03",
   "metadata": {},
   "outputs": [],
   "source": [
    "# Pest Use\n",
    "pestUse= pd.read_csv(pestUse_Path)\n",
    "#pestUse = pestUse.drop(columns = ['DATAFLOW', 'LAST UPDATE', 'freq', 'OBS_FLAG'])\n",
    "#pestSales = pestSales[(pestSales['TIME_PERIOD'].isin([2016,2018]))]\n",
    "\n",
    "pestUse['TIME_PERIOD'] = pestUse['TIME_PERIOD'].apply(lambda x: str(x)+ '_y')\n",
    "pestUse = pestUse[(pestUse['unit'].isin(['KG']))]\n",
    "pestUse = pestUse[(pestUse['pesticid'].str.contains(\"_\"))]\n",
    "pestUse  = pestUse[~pestUse['OBS_FLAG'].isin(['c'])]\n",
    "pestUse['OBS_VALUE'] = np.where(pestUse.OBS_FLAG == 'n', 0, pestUse.OBS_VALUE)\n",
    "#pestSales = pestSales[(pestSales['pesticid'].str.isdigit()==True)]\n",
    "\n",
    "#print(pestSales.pesticid.unique())\n",
    "#pestSales.head()\n",
    "\n",
    "pestUse = pestUse.pivot(index=['pesticid','crops'], columns =['geo', 'TIME_PERIOD'], values='OBS_VALUE').reset_index() \n",
    "pestUse.columns = ['_'.join(col) for col in pestUse.columns.values]\n",
    "\n",
    "#pestUse.head(30)\n",
    "#pestUse.shape\n",
    "#missing_values_table(pestUse)\n"
   ]
  },
  {
   "cell_type": "raw",
   "id": "ced162c6-0cf5-4d9c-980f-76588c4a5da9",
   "metadata": {},
   "source": [
    "farmStructure = pd.read_csv(farmStructure_Path)\n",
    "farmStructure = farmStructure[(farmStructure['arable'].isin(['TOTAL']))]\n",
    "farmStructure = farmStructure[~(farmStructure['crops'].isin(['ARA']))]\n",
    "farmStructure = farmStructure[(farmStructure['so_eur'].isin(['TOTAL']))]\n",
    "#pestUse = pestUse[(pestUse['unit'].isin(['KG']))]\n",
    "#pestUse = pestUse[(pestUse['unit'].isin(['KG']))]\n",
    "farmStructure = farmStructure.drop(columns = ['DATAFLOW', 'LAST UPDATE', 'OBS_FLAG'])\n",
    "farmStructure = farmStructure.rename(columns={\"OBS_VALUE\":\"gini\"})\n",
    "\n",
    "farmStructure.head()"
   ]
  },
  {
   "cell_type": "code",
   "execution_count": 16,
   "id": "748f8165-160b-462a-9b1c-244196d73953",
   "metadata": {
    "tags": []
   },
   "outputs": [
    {
     "data": {
      "text/plain": [
       "(307, 4)"
      ]
     },
     "execution_count": 16,
     "metadata": {},
     "output_type": "execute_result"
    }
   ],
   "source": [
    "# Pest Sales for Stats Analysis\n",
    "pestSales= pd.read_csv(pestSales_Path)\n",
    "pestSales['mainFert'] = pestSales['pesticid'].str.contains(r'[0-9]')\n",
    "pestSales = pestSales.dropna(subset=['OBS_VALUE'])\n",
    "pestSales = pestSales.drop(pestSales[pestSales['mainFert'] == True].index)\n",
    "pestSales = pestSales.drop(pestSales[pestSales['pesticid'] == 'TOTAL'].index)\n",
    "pestSales = pestSales.drop(columns = ['DATAFLOW', 'LAST UPDATE', 'freq', 'OBS_FLAG', 'unit', 'mainFert'])\n",
    "\n",
    "pestSales = pestSales.sort_values('OBS_VALUE').drop_duplicates(['geo', 'TIME_PERIOD'], keep='last')\n",
    "pestSales = pestSales.rename(columns={\"OBS_VALUE\":\"pest_KG\",\n",
    "                                     \"pesticid\" : \"mostFrequentPest\"})\n",
    "pestSales.shape\n",
    "#pestSales.head(300)\n",
    "\n",
    "\n",
    "#pestSales = pestSales.pivot(index=['pesticid'], columns =['TIME_PERIOD', 'geo'], values='OBS_VALUE').reset_index() \n",
    "#pestSales.columns = ['_'.join(col) for col in pestSales.columns.values]\n",
    "\n",
    "#pestSales.head(30)\n"
   ]
  },
  {
   "cell_type": "code",
   "execution_count": 17,
   "id": "e6c16d47-7cfc-472a-a577-8f1cd6f674fc",
   "metadata": {},
   "outputs": [],
   "source": [
    "orgTonne = pd.read_csv(orgTonne_path)\n",
    "orgTonne = orgTonne[orgTonne['crops'].str.contains(\"0000\")]\n",
    "orgTonne = orgTonne.drop(orgTonne[orgTonne['OBS_VALUE'] == 0].index)\n",
    "orgTonne = orgTonne.rename(columns={\"OBS_VALUE\":\"orgTonnes\",\n",
    "                                   \"crops\":\"mostGrownOrganic\"})\n",
    "#orgTonne.info()\n",
    "orgTonne = orgTonne[~orgTonne['OBS_FLAG'].isin(['c','n'])]\n",
    "orgTonne = orgTonne.drop(columns = ['DATAFLOW', 'LAST UPDATE', 'freq', 'unit', 'OBS_FLAG'])\n",
    "orgTonne = orgTonne.sort_values('orgTonnes').drop_duplicates(['geo', 'TIME_PERIOD'], keep='last')\n",
    "\n",
    "#print(orgTonne.head(10))\n",
    "#missing_values_table(orgTonne)"
   ]
  },
  {
   "cell_type": "code",
   "execution_count": 18,
   "id": "2af0541c-012f-4af8-b573-68b3505fb9bb",
   "metadata": {},
   "outputs": [],
   "source": [
    "stdProduction_lin = pd.read_csv(stdProduction_path)\n",
    "stdProduction_lin = stdProduction_lin[stdProduction_lin['crops'].str.contains(\"0000\")]\n",
    "stdProduction_lin = stdProduction_lin[stdProduction_lin['strucpro'].isin(['PR_HU_EU']) ]\n",
    "stdProduction_lin  = stdProduction_lin[~stdProduction_lin['OBS_FLAG'].isin(['c','n'])]\n",
    "stdProduction_lin = stdProduction_lin.drop(stdProduction_lin[stdProduction_lin['OBS_VALUE'] == 0].index)\n",
    "stdProduction_lin['OBS_VALUE'] = stdProduction_lin['OBS_VALUE']*1000\n",
    "stdProduction_lin = stdProduction_lin.rename(columns={\"OBS_VALUE\":\"stdTonnes\",\n",
    "                                                      \"crops\":\"mostGrownStd\"})\n",
    "#orgTonne.info()\n",
    "stdProduction_lin = stdProduction_lin[~stdProduction_lin['OBS_FLAG'].isin(['c','n'])]\n",
    "stdProduction_lin = stdProduction_lin.drop(columns = ['DATAFLOW', 'LAST UPDATE', 'freq', 'OBS_FLAG', 'strucpro'])\n",
    "stdProduction_lin = stdProduction_lin.sort_values('stdTonnes').drop_duplicates(['geo', 'TIME_PERIOD'], keep='last')\n",
    "\n",
    "#print(stdProduction_lin.head(10))\n",
    "#missing_values_table(orgTonne)"
   ]
  },
  {
   "cell_type": "raw",
   "id": "e6584a7e-33ff-4cd7-a044-7e9777c4aca4",
   "metadata": {},
   "source": [
    "#Median/Mean Income Data for Stats Analysis\n",
    "incomeStats = pd.read_csv(income_Path)\n",
    "incomeStats  = incomeStats[incomeStats['unit'].isin(['EUR'])]\n",
    "incomeStats  = incomeStats[incomeStats['sex'].isin(['T'])]\n",
    "incomeStats['TIME_PERIOD'] = incomeStats['TIME_PERIOD'].apply(lambda x: str(x)+ '_y')\n",
    "incomeStats = incomeStats.drop(columns = ['DATAFLOW', 'LAST UPDATE', 'freq', 'OBS_FLAG', 'unit'])\n",
    "incomeStats = incomeStats.pivot(index=['age'], columns=['TIME_PERIOD', 'indic_il', 'geo'], values='OBS_VALUE').reset_index() \n",
    "#incomeStats.columns = [''.join(col) for col in income.columns.values]\n",
    "incomeStats.head()\n",
    "#income.shape\n",
    "#income.info()"
   ]
  },
  {
   "cell_type": "raw",
   "id": "f0f691d4-bda9-45a0-9d01-97f4b630416f",
   "metadata": {},
   "source": [
    "stdProduction_lin = pd.read_csv(stdProduction_path)\n",
    "stdProduction_lin = stdProduction_lin[stdProduction_lin['crops'].str.contains(\"0000\")]\n",
    "stdProduction_lin = stdProduction_lin[stdProduction_lin['strucpro'].isin(['AR', 'PR_HU_EU']) ]\n",
    "stdProduction_lin  = stdProduction_lin[~stdProduction_lin['OBS_FLAG'].isin(['c','n'])]"
   ]
  },
  {
   "cell_type": "raw",
   "id": "91e26edc-ad63-440f-bbc4-c157fe1d4b95",
   "metadata": {},
   "source": [
    "#Standard Crop Production Import\n",
    "stdProduction_lin = pd.read_csv(stdProduction_path)\n",
    "stdProduction_lin = stdProduction_lin[stdProduction_lin['crops'].str.contains(\"0000\")]\n",
    "stdProduction_lin = stdProduction_lin[stdProduction_lin['strucpro'].isin(['AR', 'PR_HU_EU']) ]\n",
    "stdProduction_lin  = stdProduction_lin[~stdProduction_lin['OBS_FLAG'].isin(['c','n'])]\n",
    "stdProduction_lin_yield = stdProduction_lin[stdProduction_lin['strucpro'].isin(['YI_HU_EU']) ]\n",
    "stdProduction = stdProduction_lin.pivot(index=['crops', 'geo', 'TIME_PERIOD'], columns='strucpro', values='OBS_VALUE').reset_index() \n",
    "stdProduction = stdProduction.dropna(subset=['AR', 'PR_HU_EU']) #Removes last NAN value in SET\n",
    "#stdProduction = stdProduction[(stdProduction['AR'] != 0)] #Removes last NAN value in SET\n",
    "stdProduction['area_HA'] = stdProduction['AR']*1000\n",
    "stdProduction['tonnes'] = stdProduction['PR_HU_EU']*1000"
   ]
  },
  {
   "cell_type": "raw",
   "id": "ab0eea33-8762-4b6d-b3d8-bd78333433d5",
   "metadata": {},
   "source": [
    "#missing_values_table(stdProduction)\n",
    "#print('Unique Geo:' + str(stdProduction.geo.nunique()))\n",
    "#print(stdProduction.groupby('TIME_PERIOD').geo.nunique())\n",
    "#stdProduction.describe()\n",
    "#stdProduction.info()"
   ]
  },
  {
   "cell_type": "raw",
   "id": "0c031f91-4421-43c3-bb79-16d93afba361",
   "metadata": {},
   "source": [
    "del stdProduction_lin \n",
    "del stdProduction_lin_yield"
   ]
  },
  {
   "cell_type": "raw",
   "id": "cf38ae46-1a66-44ef-b6ff-4da6298bb12f",
   "metadata": {},
   "source": [
    "#Organic Crop Production Import\n",
    "orgArea_all = pd.read_csv(orgArea_path)\n",
    "orgArea_total = orgArea_all[(orgArea_all['agprdmet'] == 'TOTAL') & (orgArea_all['unit']=='HA' ) & orgArea_all['crops'].str.contains(\"0000\")]\n",
    "orgArea_total = orgArea_total.rename(columns={\"OBS_VALUE\":\"area_HA\"})\n",
    "#orgArea_total.info()\n",
    "orgArea_total = orgArea_total[~orgArea_total['OBS_FLAG'].isin(['c','n'])]\n",
    "orgArea_total = orgArea_total.drop(columns = ['DATAFLOW', 'LAST UPDATE', 'freq', 'unit', 'agprdmet', 'OBS_FLAG'])\n",
    "orgArea_total = orgArea_total.dropna(subset=['area_HA']) #Removes last NAN value in SET\n",
    "orgArea_total = orgArea_total[(orgArea_total['area_HA'] != 0)] #Removes 0 area values in SET which cause inf\n",
    "#missing_values_table(orgArea_total)\n",
    "#orgArea_total.head(25)\n",
    "\n",
    "#del orgArea_all\n",
    "\n",
    "orgTonne = pd.read_csv(orgTonne_path)\n",
    "orgTonne = orgTonne[orgTonne['crops'].str.contains(\"0000\")]\n",
    "orgTonne = orgTonne.rename(columns={\"OBS_VALUE\":\"tonnes\"})\n",
    "#orgTonne.info()\n",
    "orgTonne = orgTonne[~orgTonne['OBS_FLAG'].isin(['c','n'])]\n",
    "orgTonne = orgTonne.drop(columns = ['DATAFLOW', 'LAST UPDATE', 'freq', 'unit', 'OBS_FLAG'])\n",
    "#missing_values_table(orgTonne)\n",
    "\n",
    "orgProduction = pd.merge(orgArea_total, orgTonne, on=['crops', 'geo', 'TIME_PERIOD'], how='inner', suffixes=('_A','_T'))\n",
    "#orgProduction.head(100)"
   ]
  },
  {
   "cell_type": "raw",
   "id": "de0d6982-9a0e-4d8d-8f91-1ed1dc1a6535",
   "metadata": {},
   "source": [
    "cropProd = pd.merge( stdProduction, orgProduction, on=['crops', 'geo', 'TIME_PERIOD'], how='inner', suffixes=('_std','_org'))\n",
    "cropProd = pd.merge( cropProd, cropsCodes, on=['crops'], how='inner')\n",
    "cropProd['geo'] = cropProd['geo'].astype('str') \n",
    "#print(cropProd.groupby('TIME_PERIOD').geo.nunique())\n",
    "#hriPesticide.shape\n",
    "#cropProd.describe()\n",
    "#cropProd.info()\n",
    "#cropProd.head()"
   ]
  },
  {
   "cell_type": "code",
   "execution_count": 19,
   "id": "93372301-3d76-4271-80b1-63c76c0ddfb9",
   "metadata": {},
   "outputs": [],
   "source": [
    "#print(orgProduction.geo.unique())\n",
    "#print(stdProduction.geo.unique())\n",
    "#print(orgArea_all.geo.unique())\n",
    "#print(orgTonne.geo.unique())"
   ]
  },
  {
   "cell_type": "markdown",
   "id": "98ec48fe-18d0-4614-a1ef-f7ec6c5c6d68",
   "metadata": {
    "tags": []
   },
   "source": [
    "# Variable Creation"
   ]
  },
  {
   "cell_type": "raw",
   "id": "a4c3802b-b735-4b7b-bec9-e538b3a20516",
   "metadata": {},
   "source": [
    "cropProd['tonne_per_HA_org'] = cropProd['tonnes_org']/cropProd['area_HA_org']\n",
    "cropProd['tonne_per_HA_std'] = cropProd['tonnes_std']/cropProd['area_HA_std']\n",
    "cropProd['util_ratio'] = cropProd['tonne_per_HA_org']/cropProd['tonne_per_HA_std']\n",
    "\n",
    "cropProdTotals = cropProd[cropProd['crops'].str.contains(\"0000\")]\n",
    "\n",
    "cropProdTotals_Geo_Y= cropProdTotals.groupby(['geo', 'TIME_PERIOD']).sum(numeric_only = True).reset_index()\n",
    "#cropProdTotals_Geo= cropProdTotals.groupby(['geo']).sum(numeric_only = True).reset_index()\n",
    "#cropProdTotals_crop_Y= cropProdTotals.groupby(['crops', 'crop_name', 'TIME_PERIOD']).sum(numeric_only = True).reset_index()\n",
    "#cropProdTotals_crop= cropProdTotals.groupby(['crops', 'crop_name']).sum(numeric_only = True).reset_index()\n",
    "\n",
    "#cropProdTotals_Geo_Y.shape\n",
    "#cropProdTotals_Geo_Y.head(10)\n",
    "#print(cropProdTotals.groupby(['TIME_PERIOD', 'geo']).size())"
   ]
  },
  {
   "cell_type": "code",
   "execution_count": 20,
   "id": "590402ab",
   "metadata": {},
   "outputs": [
    {
     "data": {
      "text/plain": [
       "(279, 4)"
      ]
     },
     "execution_count": 20,
     "metadata": {},
     "output_type": "execute_result"
    }
   ],
   "source": [
    "#%whos DataFrame\n",
    "#hriPesticide.head()\n",
    "hriPesticide.shape"
   ]
  },
  {
   "cell_type": "code",
   "execution_count": 21,
   "id": "d21fe8db-6230-49fe-b11f-083570d5ff7a",
   "metadata": {
    "tags": []
   },
   "outputs": [
    {
     "data": {
      "text/plain": [
       "(279, 30)"
      ]
     },
     "execution_count": 21,
     "metadata": {},
     "output_type": "execute_result"
    }
   ],
   "source": [
    "import functools as ft\n",
    "#extraVars = [hriPesticide, orgProcessors, orgAreaUtil, countryGini, cropProdTotals_Geo_Y, birdBiodiversity, emplyomentRate, income, fertUse, productivityIndex, wasteGeneration]\n",
    "extraVars = [hriPesticide, orgProcessors, orgAreaUtil, countryGini, birdBiodiversity, emplyomentRate, income, fertUse, productivityIndex, wasteGeneration, pestSales, orgTonne, stdProduction_lin]\n",
    "rds = ft.reduce(lambda left, right: pd.merge(left,right, how='left', on=['geo', 'TIME_PERIOD']), extraVars)\n",
    "rds.shape\n",
    "#rds.head(20)\n",
    "#print(extraVars_df.groupby(['TIME_PERIOD', 'geo']).size())\n",
    "#missing_values_table(rds)#Will likely keep NAN values and use as a category when clustered to create scorecard perhaps?"
   ]
  },
  {
   "cell_type": "code",
   "execution_count": 22,
   "id": "d87d1752-bff3-4821-89c2-633a87b2fbe1",
   "metadata": {},
   "outputs": [],
   "source": [
    "rds.to_csv(r\"C:\\Users\\cianw\\Documents\\dataAnalytics\\CA2\\Data\\Datasets\\referenceDataSet.csv\")"
   ]
  },
  {
   "cell_type": "code",
   "execution_count": 23,
   "id": "0b25c97a-9527-4a10-ad4e-b155d2f23808",
   "metadata": {},
   "outputs": [],
   "source": [
    "#cropProdTotals_Geo_Y.to_csv(r\"C:\\Users\\cianw\\Documents\\dataAnalytics\\CA2\\Data\\Datasets\\cropProdTotals_Geo_Y.csv\")\n",
    "#pestSales.to_csv(r\"C:\\Users\\cianw\\Documents\\dataAnalytics\\CA2\\Data\\Datasets\\pestSales.csv\")\n",
    "pestUse.to_csv(r\"C:\\Users\\cianw\\Documents\\dataAnalytics\\CA2\\Data\\Datasets\\pestUse.csv\")"
   ]
  },
  {
   "cell_type": "code",
   "execution_count": null,
   "id": "7594c5f7-6c9e-4850-97cb-e95cbffc74b1",
   "metadata": {},
   "outputs": [],
   "source": []
  }
 ],
 "metadata": {
  "kernelspec": {
   "display_name": "Python 3 (ipykernel)",
   "language": "python",
   "name": "python3"
  },
  "language_info": {
   "codemirror_mode": {
    "name": "ipython",
    "version": 3
   },
   "file_extension": ".py",
   "mimetype": "text/x-python",
   "name": "python",
   "nbconvert_exporter": "python",
   "pygments_lexer": "ipython3",
   "version": "3.9.13"
  }
 },
 "nbformat": 4,
 "nbformat_minor": 5
}
