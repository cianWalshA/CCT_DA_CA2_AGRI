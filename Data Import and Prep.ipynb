{
 "cells": [
  {
   "cell_type": "markdown",
   "id": "0f665252-ae91-459c-9b0e-f77710af4cdd",
   "metadata": {},
   "source": [
    "# Section 0 Defining modules/libraries/functions"
   ]
  },
  {
   "cell_type": "code",
   "execution_count": null,
   "id": "dde3c216-da33-42af-97d7-65eaaabaf8ad",
   "metadata": {},
   "outputs": [],
   "source": [
    "import os\n",
    "import glob\n",
    "import pandas as pd\n",
    "import numpy as np\n",
    "import matplotlib.pyplot as plt\n",
    "import seaborn as sns\n",
    "import plotly.graph_objects as go\n",
    "import plotly.express as px\n",
    "from plotly.offline import plot \n",
    "import plotly.io as io\n",
    "#io.renderers.default='browser'\n",
    "#import plotly.io as pio\n",
    "#pio.renderers.default='svg'\n",
    "from pingouin import kruskal\n",
    "#Declare FilePaths\n",
    "from pathlib import Path"
   ]
  },
  {
   "cell_type": "code",
   "execution_count": null,
   "id": "f0135390-2dd4-425c-97d0-e09365e5b218",
   "metadata": {},
   "outputs": [],
   "source": [
    "def missing_values_table(df):\n",
    "    mis_val = df.isnull().sum()\n",
    "    mis_val_percent = 100 * df.isnull().sum() / len(df)\n",
    "    mis_val_table = pd.concat([mis_val, mis_val_percent], axis=1)\n",
    "    mis_val_table_ren_columns = mis_val_table.rename(\n",
    "    columns = {0 : 'Missing Values', 1 : '% of Total Values'})\n",
    "    mis_val_table_ren_columns = mis_val_table_ren_columns[\n",
    "        mis_val_table_ren_columns.iloc[:,1] != 0].sort_values(\n",
    "    '% of Total Values', ascending=False).round(1)\n",
    "    print (\"Your selected dataframe has \" + str(df.shape[1]) + \" columns.\\n\"      \n",
    "        \"There are \" + str(mis_val_table_ren_columns.shape[0]) +\n",
    "            \" columns that have missing values.\")\n",
    "    return mis_val_table_ren_columns\n"
   ]
  },
  {
   "cell_type": "markdown",
   "id": "ab93dbd8-2981-42bf-b5d2-478fea6fdd62",
   "metadata": {},
   "source": [
    "# Section 1 Importing Data"
   ]
  },
  {
   "cell_type": "code",
   "execution_count": null,
   "id": "4c96794a-4f9e-4138-b128-12f0cb804550",
   "metadata": {},
   "outputs": [],
   "source": [
    "cropsCodes = pd.read_csv(\"C:/Users/cianw/Documents/dataAnalytics/CA2/Data/Eurostat/Code Dictionary/crops.dic\", sep='\\t',names=['crops', 'crop_name'], header = None)\n",
    "strucproCodes = pd.read_csv(\"C:/Users/cianw/Documents/dataAnalytics/CA2/Data/Eurostat/Code Dictionary/strucpro.dic\",sep='\\t',names=['code', 'units'], header = None)\n",
    "unitCodes = pd.read_csv(\"C:/Users/cianw/Documents/dataAnalytics/CA2/Data/Eurostat/Code Dictionary/unit.dic\",sep='\\t',names=['code', 'units'], header = None)"
   ]
  },
  {
   "cell_type": "code",
   "execution_count": 45,
   "id": "3cd49d23-a721-4fa7-9dee-f986e705aa85",
   "metadata": {},
   "outputs": [],
   "source": [
    "stdProduction_path = Path(r\"C:\\Users\\cianw\\Documents\\dataAnalytics\\CA2\\Data\\Eurostat\\Agricultural Production\\Crops\\apro_cpsh1_linear.csv\")\n",
    "orgTonne_path= Path(r\"C:\\Users\\cianw\\Documents\\dataAnalytics\\CA2\\Data\\Eurostat\\Agricultural Production\\Crops\\org_croppro_linear.csv\")\n",
    "orgArea_path = Path(r\"C:\\Users\\cianw\\Documents\\dataAnalytics\\CA2\\Data\\Eurostat\\Agricultural Production\\Crops\\org_cropar_linear.csv\")\n",
    "fertRisk_path = Path(r\"C:\\Users\\cianw\\Documents\\dataAnalytics\\CA2\\Data\\Eurostat\\Agricultural Production\\Crops\\Pesiticide Use Risk Indicator\\aei_hri_linear.csv\")\n",
    "fertUse_path = Path(r\"C:\\Users\\cianw\\Documents\\dataAnalytics\\CA2\\Data\\Eurostat\\Agricultural Production\\Crops\\aei_pestuse_linear.csv\")\n",
    "fertUseGroup3_path = Path(r\"C:\\Users\\cianw\\Documents\\dataAnalytics\\CA2\\Data\\Eurostat\\Agricultural Production\\Crops\\Use of more hazardous pesticides\\sdg_02_52_linear.csv\")\n",
    "orgAreaUtil_path = Path(r\"C:\\Users\\cianw\\Documents\\dataAnalytics\\CA2\\Data\\Eurostat\\Agricultural Production\\Crops\\Organic Area\\sdg_02_40_linear.csv\")\n",
    "orgProcessors_path = Path(r\"C:\\Users\\cianw\\Documents\\dataAnalytics\\CA2\\Data\\Eurostat\\Agricultural Production\\Crops\\Organic Processors\\org_cpreact_linear.csv\")"
   ]
  },
  {
   "cell_type": "code",
   "execution_count": 51,
   "id": "e9415700-e271-4d4a-8559-ae8e4c4b9eda",
   "metadata": {},
   "outputs": [],
   "source": [
    "orgProcessors = pd.read_csv(orgProcessors_path)\n",
    "orgProcessors  = orgProcessors[orgProcessors['nace_r2'].isin(['C103'])]\n",
    "orgProcessors = orgProcessors.drop(columns = ['DATAFLOW', 'LAST UPDATE','freq', 'unit', 'OBS_FLAG'])\n",
    "orgProcessors = orgProcessors.rename(columns={\"OBS_VALUE\":\"areUsedForOrganic\"})"
   ]
  },
  {
   "cell_type": "code",
   "execution_count": 63,
   "id": "cc966e49-9c24-4fc2-b9d0-73ea19e6ff0b",
   "metadata": {},
   "outputs": [],
   "source": [
    "orgAreaUtil = pd.read_csv(orgAreaUtil_path)\n",
    "orgAreaUtil.head()\n",
    "orgAreaUtil = orgAreaUtil.drop(columns = ['DATAFLOW', 'LAST UPDATE', 'crops','freq', 'agprdmet', 'unit', 'OBS_FLAG'])\n",
    "orgAreaUtil = orgAreaUtil.rename(columns={\"OBS_VALUE\":\"areUsedForOrganic\"})"
   ]
  },
  {
   "cell_type": "code",
   "execution_count": 53,
   "id": "0e69d845-743f-4159-a3d3-a2fbd17d8706",
   "metadata": {},
   "outputs": [],
   "source": [
    "hriFertiliser = pd.read_csv(fertRisk_path)\n",
    "hriFertiliser  = hriFertiliser[hriFertiliser['subst_cat'].isin(['HRI1'])]\n",
    "hriFertiliser = hriFertiliser.drop(columns = ['DATAFLOW', 'LAST UPDATE', 'freq', 'unit', 'OBS_FLAG'])\n",
    "hriFertiliser = hriFertiliser.rename(columns={\"OBS_VALUE\":\"harmRiskInd\"})"
   ]
  },
  {
   "cell_type": "code",
   "execution_count": 54,
   "id": "8fc7f7d6-ea3a-40a6-a01e-44d5bb8cf455",
   "metadata": {},
   "outputs": [],
   "source": [
    "fertUseGroup3 = pd.read_csv(fertUseGroup3_path)\n",
    "fertUseGroup3 = fertUseGroup3.drop(columns = ['DATAFLOW', 'LAST UPDATE', 'freq', 'subst_cat', 'unit', 'OBS_FLAG'])\n",
    "fertUseGroup3 = fertUseGroup3.rename(columns={\"OBS_VALUE\":\"grp3FertUse\"})"
   ]
  },
  {
   "cell_type": "code",
   "execution_count": 57,
   "id": "236e78f8-a5a1-495a-8daa-fc23f40604fc",
   "metadata": {},
   "outputs": [
    {
     "data": {
      "text/html": [
       "<div>\n",
       "<style scoped>\n",
       "    .dataframe tbody tr th:only-of-type {\n",
       "        vertical-align: middle;\n",
       "    }\n",
       "\n",
       "    .dataframe tbody tr th {\n",
       "        vertical-align: top;\n",
       "    }\n",
       "\n",
       "    .dataframe thead th {\n",
       "        text-align: right;\n",
       "    }\n",
       "</style>\n",
       "<table border=\"1\" class=\"dataframe\">\n",
       "  <thead>\n",
       "    <tr style=\"text-align: right;\">\n",
       "      <th></th>\n",
       "      <th>nace_r2</th>\n",
       "      <th>geo</th>\n",
       "      <th>TIME_PERIOD</th>\n",
       "      <th>areUsedForOrganic_x</th>\n",
       "      <th>areUsedForOrganic_y</th>\n",
       "      <th>subst_cat</th>\n",
       "      <th>harmRiskInd</th>\n",
       "      <th>grp3FertUse</th>\n",
       "    </tr>\n",
       "  </thead>\n",
       "  <tbody>\n",
       "    <tr>\n",
       "      <th>0</th>\n",
       "      <td>C103</td>\n",
       "      <td>BG</td>\n",
       "      <td>2018</td>\n",
       "      <td>2015877.0</td>\n",
       "      <td>2.56</td>\n",
       "      <td>HRI1</td>\n",
       "      <td>83</td>\n",
       "      <td>168</td>\n",
       "    </tr>\n",
       "    <tr>\n",
       "      <th>1</th>\n",
       "      <td>C103</td>\n",
       "      <td>BG</td>\n",
       "      <td>2018</td>\n",
       "      <td>85.0</td>\n",
       "      <td>2.56</td>\n",
       "      <td>HRI1</td>\n",
       "      <td>83</td>\n",
       "      <td>168</td>\n",
       "    </tr>\n",
       "    <tr>\n",
       "      <th>2</th>\n",
       "      <td>C103</td>\n",
       "      <td>BG</td>\n",
       "      <td>2018</td>\n",
       "      <td>6162.0</td>\n",
       "      <td>2.56</td>\n",
       "      <td>HRI1</td>\n",
       "      <td>83</td>\n",
       "      <td>168</td>\n",
       "    </tr>\n",
       "    <tr>\n",
       "      <th>3</th>\n",
       "      <td>C103</td>\n",
       "      <td>BG</td>\n",
       "      <td>2019</td>\n",
       "      <td>8205201.0</td>\n",
       "      <td>2.34</td>\n",
       "      <td>HRI1</td>\n",
       "      <td>98</td>\n",
       "      <td>129</td>\n",
       "    </tr>\n",
       "    <tr>\n",
       "      <th>4</th>\n",
       "      <td>C103</td>\n",
       "      <td>BG</td>\n",
       "      <td>2019</td>\n",
       "      <td>76.0</td>\n",
       "      <td>2.34</td>\n",
       "      <td>HRI1</td>\n",
       "      <td>98</td>\n",
       "      <td>129</td>\n",
       "    </tr>\n",
       "  </tbody>\n",
       "</table>\n",
       "</div>"
      ],
      "text/plain": [
       "  nace_r2 geo  TIME_PERIOD  areUsedForOrganic_x  areUsedForOrganic_y  \\\n",
       "0    C103  BG         2018            2015877.0                 2.56   \n",
       "1    C103  BG         2018                 85.0                 2.56   \n",
       "2    C103  BG         2018               6162.0                 2.56   \n",
       "3    C103  BG         2019            8205201.0                 2.34   \n",
       "4    C103  BG         2019                 76.0                 2.34   \n",
       "\n",
       "  subst_cat  harmRiskInd  grp3FertUse  \n",
       "0      HRI1           83          168  \n",
       "1      HRI1           83          168  \n",
       "2      HRI1           83          168  \n",
       "3      HRI1           98          129  \n",
       "4      HRI1           98          129  "
      ]
     },
     "execution_count": 57,
     "metadata": {},
     "output_type": "execute_result"
    }
   ],
   "source": [
    "import functools as ft\n",
    "extraVars = [orgProcessors, orgAreaUtil, hriFertiliser, fertUseGroup3]\n",
    "extraVars_df = ft.reduce(lambda left, right: pd.merge(left,right, on=['geo', 'TIME_PERIOD']), extraVars)\n",
    "extraVars_df.head()"
   ]
  },
  {
   "cell_type": "code",
   "execution_count": null,
   "id": "a663776e-3a5f-4eba-b461-dfc76ba864de",
   "metadata": {},
   "outputs": [],
   "source": [
    "#Standard Crop Production Import\n",
    "stdProduction_lin = pd.read_csv(stdProduction_path)\n",
    "stdProduction_lin = stdProduction_lin[stdProduction_lin['strucpro'].isin(['AR', 'PR_HU_EU']) ]\n",
    "stdProduction_lin  = stdProduction_lin[~stdProduction_lin['OBS_FLAG'].isin(['c','n'])]\n",
    "stdProduction_lin_yield = stdProduction_lin[stdProduction_lin['strucpro'].isin(['YI_HU_EU']) ]\n",
    "stdProduction = stdProduction_lin.pivot(index=['crops', 'geo', 'TIME_PERIOD'], columns='strucpro', values='OBS_VALUE').reset_index() \n",
    "stdProduction  = stdProduction.dropna(subset=['AR', 'PR_HU_EU']) #Removes last NAN value in SET\n",
    "stdProduction  = stdProduction[(stdProduction['AR'] != 0)] #Removes last NAN value in SET\n",
    "stdProduction['area_HA'] = stdProduction['AR']*1000\n",
    "stdProduction['tonnes'] = stdProduction['PR_HU_EU']*1000"
   ]
  },
  {
   "cell_type": "code",
   "execution_count": null,
   "id": "f52d47aa-d6a2-4b5a-94d6-ecd02d844002",
   "metadata": {},
   "outputs": [],
   "source": [
    "missing_values_table(stdProduction)\n",
    "stdProduction.describe()\n",
    "stdProduction.info()"
   ]
  },
  {
   "cell_type": "code",
   "execution_count": null,
   "id": "1ccf52fe-2038-4c86-a49e-51146039b99c",
   "metadata": {},
   "outputs": [],
   "source": [
    "del stdProduction_lin \n",
    "del stdProduction_lin_yield\n"
   ]
  },
  {
   "cell_type": "code",
   "execution_count": null,
   "id": "2eb3e29b-0fbc-4683-b29a-4ba6ee84bd83",
   "metadata": {},
   "outputs": [],
   "source": [
    "#Organic Crop Production Import\n",
    "orgArea_all = pd.read_csv(orgArea_path)\n",
    "orgArea_total = orgArea_all[(orgArea_all['agprdmet'] == 'TOTAL') & (orgArea_all['unit']=='HA' ) ]\n",
    "orgArea_total = orgArea_total.rename(columns={\"OBS_VALUE\":\"area_HA\"})\n",
    "orgArea_total.info()\n",
    "orgArea_total = orgArea_total[~orgArea_total['OBS_FLAG'].isin(['c','n'])]\n",
    "orgArea_total = orgArea_total.drop(columns = ['DATAFLOW', 'LAST UPDATE', 'freq', 'unit', 'agprdmet', 'OBS_FLAG'])\n",
    "orgArea_total = orgArea_total.dropna(subset=['area_HA']) #Removes last NAN value in SET\n",
    "orgArea_total = orgArea_total[(orgArea_total['area_HA'] != 0)] #Removes last NAN value in SET\n",
    "missing_values_table(orgArea_total)\n",
    "\n",
    "del orgArea_all\n",
    "\n",
    "orgTonne = pd.read_csv(orgTonne_path)\n",
    "orgTonne = orgTonne.rename(columns={\"OBS_VALUE\":\"tonnes\"})\n",
    "orgTonne.info()\n",
    "orgTonne = orgTonne[~orgTonne['OBS_FLAG'].isin(['c','n'])]\n",
    "orgTonne = orgTonne.drop(columns = ['DATAFLOW', 'LAST UPDATE', 'freq', 'unit', 'OBS_FLAG'])\n",
    "missing_values_table(orgTonne)\n",
    "\n",
    "orgProduction = pd.merge(orgArea_total, orgTonne, on=['crops', 'geo', 'TIME_PERIOD'], how='inner', suffixes=('_A','_T'))\n",
    "orgProduction.describe()\n",
    "orgProduction.info()\n"
   ]
  },
  {
   "cell_type": "code",
   "execution_count": null,
   "id": "58d88d14-181c-426c-a1e2-11e0f02ff213",
   "metadata": {},
   "outputs": [],
   "source": [
    "cropProd = pd.merge( stdProduction, orgProduction, on=['crops', 'geo', 'TIME_PERIOD'], how='inner', suffixes=('_std','_org'))\n",
    "cropProd = pd.merge( cropProd, cropsCodes, on=['crops'], how='inner')\n",
    "cropProd['geo'] = cropProd['geo'].astype('str') \n",
    "cropProd.describe()\n",
    "cropProd.info()\n"
   ]
  },
  {
   "cell_type": "code",
   "execution_count": null,
   "id": "93372301-3d76-4271-80b1-63c76c0ddfb9",
   "metadata": {},
   "outputs": [],
   "source": []
  },
  {
   "cell_type": "markdown",
   "id": "98ec48fe-18d0-4614-a1ef-f7ec6c5c6d68",
   "metadata": {
    "tags": []
   },
   "source": [
    "# Variable Creation"
   ]
  },
  {
   "cell_type": "code",
   "execution_count": null,
   "id": "ed5ae6c8-3c92-44a1-b3a0-d270b9c73af3",
   "metadata": {},
   "outputs": [],
   "source": [
    "cropProd['tonne_per_HA_org'] = cropProd['tonnes_org']/cropProd['area_HA_org']\n",
    "cropProd['tonne_per_HA_std'] = cropProd['tonnes_std']/cropProd['area_HA_std']\n",
    "\n",
    "cropProdTotals = cropProd[cropProd['crops'].str.contains(\"0000\")]\n",
    "\n",
    "\n",
    "cropProd_Geo_Y= cropProd.groupby(['geo', 'TIME_PERIOD']).sum(numeric_only = True).reset_index()\n",
    "cropProd_Geo= cropProd.groupby(['geo']).sum(numeric_only = True).reset_index()\n",
    "cropProd_crop_Y= cropProd.groupby(['crops', 'crop_name', 'TIME_PERIOD']).sum(numeric_only = True).reset_index()\n",
    "cropProd_crop= cropProd.groupby(['crops', 'crop_name']).sum(numeric_only = True).reset_index()\n",
    "\n",
    "cropProdTotals_Geo_Y= cropProdTotals.groupby(['geo', 'TIME_PERIOD']).sum(numeric_only = True).reset_index()\n",
    "cropProdTotals_Geo= cropProdTotals.groupby(['geo']).sum(numeric_only = True).reset_index()\n",
    "cropProdTotals_crop_Y= cropProdTotals.groupby(['crops', 'crop_name', 'TIME_PERIOD']).sum(numeric_only = True).reset_index()\n",
    "cropProdTotals_crop= cropProdTotals.groupby(['crops', 'crop_name']).sum(numeric_only = True).reset_index()\n"
   ]
  },
  {
   "cell_type": "code",
   "execution_count": null,
   "id": "d87d1752-bff3-4821-89c2-633a87b2fbe1",
   "metadata": {},
   "outputs": [],
   "source": [
    "from ipywidgets import Layout\n",
    "\n",
    "unique_geo = cropProdTotals_Geo_Y.PdDistrict.unique()\n",
    "\n",
    "country = widgets.SelectMultiple(\n",
    "    options = unique_geo.tolist(),\n",
    "    value = ['BAYVIEW', 'NORTHERN'],\n",
    "    description='Country',\n",
    "    disabled=False,\n",
    "    layout = Layout(width='50%', height='80px', display='flex')\n",
    ")"
   ]
  },
  {
   "cell_type": "code",
   "execution_count": null,
   "id": "0b25c97a-9527-4a10-ad4e-b155d2f23808",
   "metadata": {},
   "outputs": [],
   "source": []
  },
  {
   "cell_type": "code",
   "execution_count": null,
   "id": "7594c5f7-6c9e-4850-97cb-e95cbffc74b1",
   "metadata": {},
   "outputs": [],
   "source": []
  },
  {
   "cell_type": "code",
   "execution_count": null,
   "id": "7d8a990b-723c-46ec-ad98-f579ae118eba",
   "metadata": {},
   "outputs": [],
   "source": []
  },
  {
   "cell_type": "code",
   "execution_count": null,
   "id": "55d28d83-f092-492e-b1e2-d36039741f88",
   "metadata": {},
   "outputs": [],
   "source": []
  }
 ],
 "metadata": {
  "kernelspec": {
   "display_name": "Python 3 (ipykernel)",
   "language": "python",
   "name": "python3"
  },
  "language_info": {
   "codemirror_mode": {
    "name": "ipython",
    "version": 3
   },
   "file_extension": ".py",
   "mimetype": "text/x-python",
   "name": "python",
   "nbconvert_exporter": "python",
   "pygments_lexer": "ipython3",
   "version": "3.9.13"
  }
 },
 "nbformat": 4,
 "nbformat_minor": 5
}
