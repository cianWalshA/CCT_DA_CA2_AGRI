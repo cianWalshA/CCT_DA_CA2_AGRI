{
 "cells": [
  {
   "cell_type": "code",
   "execution_count": 1,
   "id": "afe85fa2",
   "metadata": {},
   "outputs": [],
   "source": [
    "#pip install praw"
   ]
  },
  {
   "cell_type": "code",
   "execution_count": 2,
   "id": "9167a45f-8f47-4405-82d1-13b5a8bbde0c",
   "metadata": {},
   "outputs": [],
   "source": [
    "import pandas as pd\n",
    "from pathlib import Path\n",
    "import praw\n",
    "from praw.models  import MoreComments\n",
    "import requests\n",
    "from dotenv import dotenv_values"
   ]
  },
  {
   "cell_type": "code",
   "execution_count": 3,
   "id": "b26db2ec-0c87-4d51-b09b-66f5e016d406",
   "metadata": {
    "tags": []
   },
   "outputs": [],
   "source": [
    "# https://www.reddit.com/r/ireland/comments/1degqz/ireland_abstained_from_vote_to_ban_beeharming/\n",
    "# https://www.reddit.com/r/ireland/comments/iufe2e/can_anyone_explain_to_me_why_people_are_poisoning/\n",
    "# https://www.reddit.com/r/ireland/comments/p5nl08/irish_farmers_widely_using_glyphosate_roundup_to/\n"
   ]
  },
  {
   "cell_type": "code",
   "execution_count": 4,
   "id": "2f992f5e-d0e8-4b22-bd8b-60d42c8c2c9a",
   "metadata": {},
   "outputs": [],
   "source": [
    "config = dotenv_values(\"redditAPI.env\")\n",
    "\n",
    "CLIENT_ID = config[\"CLIENT_ID\"]\n",
    "CLIENT_SECRET = config[\"CLIENT_SECRET\"]\n",
    "USER_AGENT = config[\"USER_AGENT\"]\n",
    "\n",
    "searchLink = 'https://www.reddit.com/r/ireland/comments/p5nl08/irish_farmers_widely_using_glyphosate_roundup_to/'"
   ]
  },
  {
   "cell_type": "code",
   "execution_count": 5,
   "id": "f0737e17-98ac-4d7b-aab3-c090df6ec339",
   "metadata": {},
   "outputs": [],
   "source": [
    "reddit = praw.Reddit(client_id=CLIENT_ID,         # your client id\n",
    "                               client_secret=CLIENT_SECRET,      # your client secret\n",
    "                               user_agent=USER_AGENT)        # your user agent"
   ]
  },
  {
   "cell_type": "code",
   "execution_count": 6,
   "id": "53964a30-5a20-4585-ad13-d291e3b2a19d",
   "metadata": {},
   "outputs": [],
   "source": [
    "submission = reddit.submission(url=searchLink)"
   ]
  },
  {
   "cell_type": "code",
   "execution_count": 7,
   "id": "51449dfc-1276-4b4b-b97e-fae845aeccf1",
   "metadata": {
    "tags": []
   },
   "outputs": [],
   "source": [
    "commentOutput=[]\n",
    "a=1\n",
    "submission.comments.replace_more(limit=None)\n",
    "for comment in submission.comments.list():\n",
    "    if comment.author is not None:\n",
    "        author = comment.author.name\n",
    "    else:\n",
    "        author = 'N/A'\n",
    "    body = comment.body\n",
    "    score = comment.score\n",
    "    date = comment.created_utc\n",
    "    commentDetails = [author, body, score, date]\n",
    "    commentOutput.append(commentDetails)\n",
    "redditComments = pd.DataFrame(commentOutput, columns=['Author', 'Comment', 'Score', 'Date'])"
   ]
  },
  {
   "cell_type": "code",
   "execution_count": 8,
   "id": "2bd57a53-cd72-49e4-9593-ee89e92d5855",
   "metadata": {},
   "outputs": [
    {
     "data": {
      "text/html": [
       "<div>\n",
       "<style scoped>\n",
       "    .dataframe tbody tr th:only-of-type {\n",
       "        vertical-align: middle;\n",
       "    }\n",
       "\n",
       "    .dataframe tbody tr th {\n",
       "        vertical-align: top;\n",
       "    }\n",
       "\n",
       "    .dataframe thead th {\n",
       "        text-align: right;\n",
       "    }\n",
       "</style>\n",
       "<table border=\"1\" class=\"dataframe\">\n",
       "  <thead>\n",
       "    <tr style=\"text-align: right;\">\n",
       "      <th></th>\n",
       "      <th>Author</th>\n",
       "      <th>Comment</th>\n",
       "      <th>Score</th>\n",
       "      <th>Date</th>\n",
       "    </tr>\n",
       "  </thead>\n",
       "  <tbody>\n",
       "    <tr>\n",
       "      <th>0</th>\n",
       "      <td>TechM635</td>\n",
       "      <td>Here’s a report from NUIG from three years ago...</td>\n",
       "      <td>42</td>\n",
       "      <td>1.629145e+09</td>\n",
       "    </tr>\n",
       "    <tr>\n",
       "      <th>1</th>\n",
       "      <td>lwkt2005</td>\n",
       "      <td>Hey fellow biochemists of Reddit, how's the Ph...</td>\n",
       "      <td>24</td>\n",
       "      <td>1.629150e+09</td>\n",
       "    </tr>\n",
       "    <tr>\n",
       "      <th>2</th>\n",
       "      <td>raybone12</td>\n",
       "      <td>OP how much of Ireland’s tillage crops go for ...</td>\n",
       "      <td>3</td>\n",
       "      <td>1.629226e+09</td>\n",
       "    </tr>\n",
       "    <tr>\n",
       "      <th>3</th>\n",
       "      <td>InisElga</td>\n",
       "      <td>There is limited human exposure data available...</td>\n",
       "      <td>8</td>\n",
       "      <td>1.629148e+09</td>\n",
       "    </tr>\n",
       "    <tr>\n",
       "      <th>4</th>\n",
       "      <td>DestroyAndCreate</td>\n",
       "      <td>&gt;It looks like the comments have been taken ov...</td>\n",
       "      <td>4</td>\n",
       "      <td>1.629210e+09</td>\n",
       "    </tr>\n",
       "    <tr>\n",
       "      <th>...</th>\n",
       "      <td>...</td>\n",
       "      <td>...</td>\n",
       "      <td>...</td>\n",
       "      <td>...</td>\n",
       "    </tr>\n",
       "    <tr>\n",
       "      <th>240</th>\n",
       "      <td>WhatsTheCraicNow</td>\n",
       "      <td>So you're saying that there's no organic milk ...</td>\n",
       "      <td>2</td>\n",
       "      <td>1.629217e+09</td>\n",
       "    </tr>\n",
       "    <tr>\n",
       "      <th>241</th>\n",
       "      <td>angrygorrilla</td>\n",
       "      <td>Show me once where I even suggested such a thi...</td>\n",
       "      <td>1</td>\n",
       "      <td>1.629217e+09</td>\n",
       "    </tr>\n",
       "    <tr>\n",
       "      <th>242</th>\n",
       "      <td>WhatsTheCraicNow</td>\n",
       "      <td>You just said farmers in Ireland spray their g...</td>\n",
       "      <td>1</td>\n",
       "      <td>1.629218e+09</td>\n",
       "    </tr>\n",
       "    <tr>\n",
       "      <th>243</th>\n",
       "      <td>angrygorrilla</td>\n",
       "      <td>Since when is every farmer organic? The actual...</td>\n",
       "      <td>2</td>\n",
       "      <td>1.629219e+09</td>\n",
       "    </tr>\n",
       "    <tr>\n",
       "      <th>244</th>\n",
       "      <td>angrygorrilla</td>\n",
       "      <td>You started on about shit not being put on foo...</td>\n",
       "      <td>2</td>\n",
       "      <td>1.629220e+09</td>\n",
       "    </tr>\n",
       "  </tbody>\n",
       "</table>\n",
       "<p>245 rows × 4 columns</p>\n",
       "</div>"
      ],
      "text/plain": [
       "               Author                                            Comment  \\\n",
       "0            TechM635  Here’s a report from NUIG from three years ago...   \n",
       "1            lwkt2005  Hey fellow biochemists of Reddit, how's the Ph...   \n",
       "2           raybone12  OP how much of Ireland’s tillage crops go for ...   \n",
       "3            InisElga  There is limited human exposure data available...   \n",
       "4    DestroyAndCreate  >It looks like the comments have been taken ov...   \n",
       "..                ...                                                ...   \n",
       "240  WhatsTheCraicNow  So you're saying that there's no organic milk ...   \n",
       "241     angrygorrilla  Show me once where I even suggested such a thi...   \n",
       "242  WhatsTheCraicNow  You just said farmers in Ireland spray their g...   \n",
       "243     angrygorrilla  Since when is every farmer organic? The actual...   \n",
       "244     angrygorrilla  You started on about shit not being put on foo...   \n",
       "\n",
       "     Score          Date  \n",
       "0       42  1.629145e+09  \n",
       "1       24  1.629150e+09  \n",
       "2        3  1.629226e+09  \n",
       "3        8  1.629148e+09  \n",
       "4        4  1.629210e+09  \n",
       "..     ...           ...  \n",
       "240      2  1.629217e+09  \n",
       "241      1  1.629217e+09  \n",
       "242      1  1.629218e+09  \n",
       "243      2  1.629219e+09  \n",
       "244      2  1.629220e+09  \n",
       "\n",
       "[245 rows x 4 columns]"
      ]
     },
     "execution_count": 8,
     "metadata": {},
     "output_type": "execute_result"
    }
   ],
   "source": [
    "redditComments"
   ]
  },
  {
   "cell_type": "code",
   "execution_count": 9,
   "id": "c86b43fd-1a9a-4ca6-a6a4-6e66a5fe3c11",
   "metadata": {},
   "outputs": [],
   "source": [
    "redditComments.to_csv(r\"C:\\Users\\cianw\\Documents\\dataAnalytics\\CA2\\Data\\Datasets\\redditCommentsGlyphosate.csv\")"
   ]
  }
 ],
 "metadata": {
  "kernelspec": {
   "display_name": "Python 3 (ipykernel)",
   "language": "python",
   "name": "python3"
  },
  "language_info": {
   "codemirror_mode": {
    "name": "ipython",
    "version": 3
   },
   "file_extension": ".py",
   "mimetype": "text/x-python",
   "name": "python",
   "nbconvert_exporter": "python",
   "pygments_lexer": "ipython3",
   "version": "3.9.13"
  }
 },
 "nbformat": 4,
 "nbformat_minor": 5
}
