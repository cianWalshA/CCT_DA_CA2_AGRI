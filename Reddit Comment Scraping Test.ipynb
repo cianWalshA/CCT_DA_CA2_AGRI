{
 "cells": [
  {
   "cell_type": "code",
   "execution_count": 1,
   "id": "afe85fa2",
   "metadata": {},
   "outputs": [],
   "source": [
    "#pip install praw"
   ]
  },
  {
   "cell_type": "code",
   "execution_count": 2,
   "id": "9167a45f-8f47-4405-82d1-13b5a8bbde0c",
   "metadata": {},
   "outputs": [],
   "source": [
    "import pandas as pd\n",
    "from pathlib import Path\n",
    "import praw\n",
    "from praw.models  import MoreComments\n",
    "import requests\n",
    "from dotenv import dotenv_values"
   ]
  },
  {
   "cell_type": "code",
   "execution_count": 3,
   "id": "b26db2ec-0c87-4d51-b09b-66f5e016d406",
   "metadata": {
    "tags": []
   },
   "outputs": [],
   "source": [
    "# https://www.reddit.com/r/ireland/comments/1degqz/ireland_abstained_from_vote_to_ban_beeharming/\n",
    "# https://www.reddit.com/r/ireland/comments/iufe2e/can_anyone_explain_to_me_why_people_are_poisoning/\n",
    "# https://www.reddit.com/r/ireland/comments/p5nl08/irish_farmers_widely_using_glyphosate_roundup_to/\n"
   ]
  },
  {
   "cell_type": "code",
   "execution_count": 4,
   "id": "2f992f5e-d0e8-4b22-bd8b-60d42c8c2c9a",
   "metadata": {},
   "outputs": [],
   "source": [
    "config = dotenv_values(\"redditAPI.env\")\n",
    "\n",
    "CLIENT_ID = config[\"CLIENT_ID\"]\n",
    "CLIENT_SECRET = config[\"CLIENT_SECRET\"]\n",
    "USER_AGENT = config[\"USER_AGENT\"]\n",
    "\n",
    "searchLink = 'https://www.reddit.com/r/ireland/comments/y65iud/ireland_has_one_of_the_lowest_rates_of_food_price/'"
   ]
  },
  {
   "cell_type": "code",
   "execution_count": 5,
   "id": "f0737e17-98ac-4d7b-aab3-c090df6ec339",
   "metadata": {},
   "outputs": [],
   "source": [
    "reddit = praw.Reddit(client_id=CLIENT_ID,         # your client id\n",
    "                               client_secret=CLIENT_SECRET,      # your client secret\n",
    "                               user_agent=USER_AGENT)        # your user agent"
   ]
  },
  {
   "cell_type": "code",
   "execution_count": 6,
   "id": "53964a30-5a20-4585-ad13-d291e3b2a19d",
   "metadata": {},
   "outputs": [],
   "source": [
    "submission = reddit.submission(url=searchLink)"
   ]
  },
  {
   "cell_type": "code",
   "execution_count": 7,
   "id": "51449dfc-1276-4b4b-b97e-fae845aeccf1",
   "metadata": {
    "tags": []
   },
   "outputs": [],
   "source": [
    "commentOutput=[]\n",
    "a=1\n",
    "submission.comments.replace_more(limit=None)\n",
    "for comment in submission.comments.list():\n",
    "    if comment.author is not None:\n",
    "        author = comment.author.name\n",
    "    else:\n",
    "        author = 'N/A'\n",
    "    body = comment.body\n",
    "    score = comment.score\n",
    "    date = comment.created_utc\n",
    "    commentDetails = [author, body, score, date]\n",
    "    commentOutput.append(commentDetails)\n",
    "redditComments = pd.DataFrame(commentOutput, columns=['Author', 'Comment', 'Score', 'Date'])"
   ]
  },
  {
   "cell_type": "code",
   "execution_count": 8,
   "id": "2bd57a53-cd72-49e4-9593-ee89e92d5855",
   "metadata": {},
   "outputs": [
    {
     "data": {
      "text/html": [
       "<div>\n",
       "<style scoped>\n",
       "    .dataframe tbody tr th:only-of-type {\n",
       "        vertical-align: middle;\n",
       "    }\n",
       "\n",
       "    .dataframe tbody tr th {\n",
       "        vertical-align: top;\n",
       "    }\n",
       "\n",
       "    .dataframe thead th {\n",
       "        text-align: right;\n",
       "    }\n",
       "</style>\n",
       "<table border=\"1\" class=\"dataframe\">\n",
       "  <thead>\n",
       "    <tr style=\"text-align: right;\">\n",
       "      <th></th>\n",
       "      <th>Author</th>\n",
       "      <th>Comment</th>\n",
       "      <th>Score</th>\n",
       "      <th>Date</th>\n",
       "    </tr>\n",
       "  </thead>\n",
       "  <tbody>\n",
       "    <tr>\n",
       "      <th>0</th>\n",
       "      <td>BCBoxMan</td>\n",
       "      <td>Ireland has always done food well. Excellent q...</td>\n",
       "      <td>561</td>\n",
       "      <td>1.665998e+09</td>\n",
       "    </tr>\n",
       "    <tr>\n",
       "      <th>1</th>\n",
       "      <td>FreeAndFairErections</td>\n",
       "      <td>Food is genuinely super cheap in Ireland relat...</td>\n",
       "      <td>218</td>\n",
       "      <td>1.665998e+09</td>\n",
       "    </tr>\n",
       "    <tr>\n",
       "      <th>2</th>\n",
       "      <td>gokurotfl</td>\n",
       "      <td>As a Polish person I can confirm that. I visit...</td>\n",
       "      <td>61</td>\n",
       "      <td>1.666002e+09</td>\n",
       "    </tr>\n",
       "    <tr>\n",
       "      <th>3</th>\n",
       "      <td>Null_Trooper</td>\n",
       "      <td>Poor, poor Turkey.\\n\\nAnd damn, the Swiss are ...</td>\n",
       "      <td>46</td>\n",
       "      <td>1.666002e+09</td>\n",
       "    </tr>\n",
       "    <tr>\n",
       "      <th>4</th>\n",
       "      <td>tomashen</td>\n",
       "      <td>This is actually pretty accurate. I know peopl...</td>\n",
       "      <td>41</td>\n",
       "      <td>1.666007e+09</td>\n",
       "    </tr>\n",
       "    <tr>\n",
       "      <th>...</th>\n",
       "      <td>...</td>\n",
       "      <td>...</td>\n",
       "      <td>...</td>\n",
       "      <td>...</td>\n",
       "    </tr>\n",
       "    <tr>\n",
       "      <th>406</th>\n",
       "      <td>Bobzer</td>\n",
       "      <td>I screw up solar panels and work on electric c...</td>\n",
       "      <td>2</td>\n",
       "      <td>1.666009e+09</td>\n",
       "    </tr>\n",
       "    <tr>\n",
       "      <th>407</th>\n",
       "      <td>themagpie36</td>\n",
       "      <td>I guess you're talking about my scumbag commen...</td>\n",
       "      <td>1</td>\n",
       "      <td>1.666131e+09</td>\n",
       "    </tr>\n",
       "    <tr>\n",
       "      <th>408</th>\n",
       "      <td>N/A</td>\n",
       "      <td>[deleted]</td>\n",
       "      <td>2</td>\n",
       "      <td>1.666009e+09</td>\n",
       "    </tr>\n",
       "    <tr>\n",
       "      <th>409</th>\n",
       "      <td>Reddit_Is_Bollox</td>\n",
       "      <td>Yes. I am. Apology accepted.  \\n\\nAnd that vid...</td>\n",
       "      <td>1</td>\n",
       "      <td>1.666131e+09</td>\n",
       "    </tr>\n",
       "    <tr>\n",
       "      <th>410</th>\n",
       "      <td>Bobzer</td>\n",
       "      <td>Don't trust me?\\n\\nEither way, the thing I do ...</td>\n",
       "      <td>2</td>\n",
       "      <td>1.666009e+09</td>\n",
       "    </tr>\n",
       "  </tbody>\n",
       "</table>\n",
       "<p>411 rows × 4 columns</p>\n",
       "</div>"
      ],
      "text/plain": [
       "                   Author                                            Comment  \\\n",
       "0                BCBoxMan  Ireland has always done food well. Excellent q...   \n",
       "1    FreeAndFairErections  Food is genuinely super cheap in Ireland relat...   \n",
       "2               gokurotfl  As a Polish person I can confirm that. I visit...   \n",
       "3            Null_Trooper  Poor, poor Turkey.\\n\\nAnd damn, the Swiss are ...   \n",
       "4                tomashen  This is actually pretty accurate. I know peopl...   \n",
       "..                    ...                                                ...   \n",
       "406                Bobzer  I screw up solar panels and work on electric c...   \n",
       "407           themagpie36  I guess you're talking about my scumbag commen...   \n",
       "408                   N/A                                          [deleted]   \n",
       "409      Reddit_Is_Bollox  Yes. I am. Apology accepted.  \\n\\nAnd that vid...   \n",
       "410                Bobzer  Don't trust me?\\n\\nEither way, the thing I do ...   \n",
       "\n",
       "     Score          Date  \n",
       "0      561  1.665998e+09  \n",
       "1      218  1.665998e+09  \n",
       "2       61  1.666002e+09  \n",
       "3       46  1.666002e+09  \n",
       "4       41  1.666007e+09  \n",
       "..     ...           ...  \n",
       "406      2  1.666009e+09  \n",
       "407      1  1.666131e+09  \n",
       "408      2  1.666009e+09  \n",
       "409      1  1.666131e+09  \n",
       "410      2  1.666009e+09  \n",
       "\n",
       "[411 rows x 4 columns]"
      ]
     },
     "execution_count": 8,
     "metadata": {},
     "output_type": "execute_result"
    }
   ],
   "source": [
    "redditComments"
   ]
  },
  {
   "cell_type": "code",
   "execution_count": 9,
   "id": "c86b43fd-1a9a-4ca6-a6a4-6e66a5fe3c11",
   "metadata": {},
   "outputs": [],
   "source": [
    "redditComments.to_csv(r\"C:\\Users\\cianw\\Documents\\dataAnalytics\\CA2\\Data\\Datasets\\redditCommentsFoodInflation.csv\")"
   ]
  }
 ],
 "metadata": {
  "kernelspec": {
   "display_name": "Python 3 (ipykernel)",
   "language": "python",
   "name": "python3"
  },
  "language_info": {
   "codemirror_mode": {
    "name": "ipython",
    "version": 3
   },
   "file_extension": ".py",
   "mimetype": "text/x-python",
   "name": "python",
   "nbconvert_exporter": "python",
   "pygments_lexer": "ipython3",
   "version": "3.9.13"
  }
 },
 "nbformat": 4,
 "nbformat_minor": 5
}
