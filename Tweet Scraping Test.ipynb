{
 "cells": [
  {
   "cell_type": "code",
   "execution_count": null,
   "id": "afe85fa2",
   "metadata": {},
   "outputs": [],
   "source": [
    "#pesticides ireland -has:links"
   ]
  },
  {
   "cell_type": "code",
   "execution_count": 22,
   "id": "9167a45f-8f47-4405-82d1-13b5a8bbde0c",
   "metadata": {},
   "outputs": [],
   "source": [
    "import pandas as pd\n",
    "from pathlib import Path\n",
    "import tweepy\n",
    "import requests\n",
    "from dotenv import dotenv_values"
   ]
  },
  {
   "cell_type": "code",
   "execution_count": 49,
   "id": "2f992f5e-d0e8-4b22-bd8b-60d42c8c2c9a",
   "metadata": {},
   "outputs": [],
   "source": [
    "config = dotenv_values(\"twitterAPI.env\")\n",
    "\n",
    "api_key = config[\"API_KEY\"]\n",
    "api_key_secret = config[\"API_KEY_SECRET\"]\n",
    "access_token = config[\"ACCESS_TOKEN\"]\n",
    "access_token_secret = config[\"ACCESS_TOKEN_SECRET\"]\n",
    "bearer_token = config[\"BEARER_TOKEN\"]\n",
    "\n",
    "searchTerm = \"pesticides ireland\""
   ]
  },
  {
   "cell_type": "code",
   "execution_count": 50,
   "id": "f0737e17-98ac-4d7b-aab3-c090df6ec339",
   "metadata": {},
   "outputs": [],
   "source": [
    "client = tweepy.Client( bearer_token=bearer_token, \n",
    "                        consumer_key=api_key, \n",
    "                        consumer_secret=api_key_secret, \n",
    "                        access_token=access_token, \n",
    "                        access_token_secret=access_token_secret, \n",
    "                        return_type = requests.Response,\n",
    "                        wait_on_rate_limit=True)"
   ]
  },
  {
   "cell_type": "code",
   "execution_count": 51,
   "id": "12409d6c-e506-4328-83fb-8d8938590c74",
   "metadata": {},
   "outputs": [],
   "source": [
    "tweets = client.search_recent_tweets(query=searchTerm, \n",
    "                                    tweet_fields=['author_id', 'created_at'],\n",
    "                                     max_results=100)"
   ]
  },
  {
   "cell_type": "code",
   "execution_count": 52,
   "id": "8f3fdfae-5e9b-4833-8956-70260f953cf4",
   "metadata": {},
   "outputs": [],
   "source": [
    "import pandas as pd\n",
    "# Save data as dictionary\n",
    "tweets_dict = tweets.json() \n",
    "# Extract \"data\" value from dictionary\n",
    "tweets_data = tweets_dict['data'] \n",
    "# Transform to pandas Dataframe\n",
    "pestTweets = pd.json_normalize(tweets_data) "
   ]
  },
  {
   "cell_type": "code",
   "execution_count": 53,
   "id": "2bd57a53-cd72-49e4-9593-ee89e92d5855",
   "metadata": {},
   "outputs": [
    {
     "data": {
      "text/plain": [
       "(10, 5)"
      ]
     },
     "execution_count": 53,
     "metadata": {},
     "output_type": "execute_result"
    }
   ],
   "source": [
    "pestTweets.shape"
   ]
  },
  {
   "cell_type": "code",
   "execution_count": 54,
   "id": "41459745-7509-4232-b34c-bae56378cb95",
   "metadata": {},
   "outputs": [
    {
     "data": {
      "text/html": [
       "<div>\n",
       "<style scoped>\n",
       "    .dataframe tbody tr th:only-of-type {\n",
       "        vertical-align: middle;\n",
       "    }\n",
       "\n",
       "    .dataframe tbody tr th {\n",
       "        vertical-align: top;\n",
       "    }\n",
       "\n",
       "    .dataframe thead th {\n",
       "        text-align: right;\n",
       "    }\n",
       "</style>\n",
       "<table border=\"1\" class=\"dataframe\">\n",
       "  <thead>\n",
       "    <tr style=\"text-align: right;\">\n",
       "      <th></th>\n",
       "      <th>created_at</th>\n",
       "      <th>text</th>\n",
       "      <th>id</th>\n",
       "      <th>author_id</th>\n",
       "      <th>edit_history_tweet_ids</th>\n",
       "    </tr>\n",
       "  </thead>\n",
       "  <tbody>\n",
       "    <tr>\n",
       "      <th>0</th>\n",
       "      <td>2022-12-28T13:20:04.000Z</td>\n",
       "      <td>@thatginamiller @Marlen9165 @EuropeanPowell An...</td>\n",
       "      <td>1608090407920877571</td>\n",
       "      <td>2654992992</td>\n",
       "      <td>[1608090407920877571]</td>\n",
       "    </tr>\n",
       "    <tr>\n",
       "      <th>1</th>\n",
       "      <td>2022-12-28T13:09:20.000Z</td>\n",
       "      <td>RT @agriculture_ie: #HaveYourSay on Ireland’s ...</td>\n",
       "      <td>1608087703995695106</td>\n",
       "      <td>1135404206</td>\n",
       "      <td>[1608087703995695106]</td>\n",
       "    </tr>\n",
       "    <tr>\n",
       "      <th>2</th>\n",
       "      <td>2022-12-28T11:24:27.000Z</td>\n",
       "      <td>RT @agriculture_ie: #HaveYourSay on Ireland’s ...</td>\n",
       "      <td>1608061309006020611</td>\n",
       "      <td>148000327</td>\n",
       "      <td>[1608061309006020611]</td>\n",
       "    </tr>\n",
       "    <tr>\n",
       "      <th>3</th>\n",
       "      <td>2022-12-28T10:47:24.000Z</td>\n",
       "      <td>RT @agriculture_ie: #HaveYourSay on Ireland’s ...</td>\n",
       "      <td>1608051985311227905</td>\n",
       "      <td>1520393858</td>\n",
       "      <td>[1608051985311227905]</td>\n",
       "    </tr>\n",
       "    <tr>\n",
       "      <th>4</th>\n",
       "      <td>2022-12-28T10:19:16.000Z</td>\n",
       "      <td>RT @agriculture_ie: #HaveYourSay on Ireland’s ...</td>\n",
       "      <td>1608044907532353537</td>\n",
       "      <td>92012686</td>\n",
       "      <td>[1608044907532353537]</td>\n",
       "    </tr>\n",
       "    <tr>\n",
       "      <th>5</th>\n",
       "      <td>2022-12-27T19:48:36.000Z</td>\n",
       "      <td>RT @agriculture_ie: #HaveYourSay on Ireland’s ...</td>\n",
       "      <td>1607825797380968449</td>\n",
       "      <td>719397543</td>\n",
       "      <td>[1607825797380968449]</td>\n",
       "    </tr>\n",
       "    <tr>\n",
       "      <th>6</th>\n",
       "      <td>2022-12-27T18:56:42.000Z</td>\n",
       "      <td>RT @agriculture_ie: #HaveYourSay on Ireland’s ...</td>\n",
       "      <td>1607812735462416384</td>\n",
       "      <td>367646448</td>\n",
       "      <td>[1607812735462416384]</td>\n",
       "    </tr>\n",
       "    <tr>\n",
       "      <th>7</th>\n",
       "      <td>2022-12-27T15:33:00.000Z</td>\n",
       "      <td>#HaveYourSay on Ireland’s #publicconsultation ...</td>\n",
       "      <td>1607761471601053696</td>\n",
       "      <td>2589328316</td>\n",
       "      <td>[1607761471601053696]</td>\n",
       "    </tr>\n",
       "    <tr>\n",
       "      <th>8</th>\n",
       "      <td>2022-12-26T17:34:45.000Z</td>\n",
       "      <td>@castlvillageman Had beef pork and turkey on o...</td>\n",
       "      <td>1607429725487521793</td>\n",
       "      <td>622743271</td>\n",
       "      <td>[1607429725487521793]</td>\n",
       "    </tr>\n",
       "    <tr>\n",
       "      <th>9</th>\n",
       "      <td>2022-12-24T16:23:14.000Z</td>\n",
       "      <td>I learned extensively about the entire catalog...</td>\n",
       "      <td>1606686949619679232</td>\n",
       "      <td>768959213171249152</td>\n",
       "      <td>[1606686949619679232]</td>\n",
       "    </tr>\n",
       "  </tbody>\n",
       "</table>\n",
       "</div>"
      ],
      "text/plain": [
       "                 created_at  \\\n",
       "0  2022-12-28T13:20:04.000Z   \n",
       "1  2022-12-28T13:09:20.000Z   \n",
       "2  2022-12-28T11:24:27.000Z   \n",
       "3  2022-12-28T10:47:24.000Z   \n",
       "4  2022-12-28T10:19:16.000Z   \n",
       "5  2022-12-27T19:48:36.000Z   \n",
       "6  2022-12-27T18:56:42.000Z   \n",
       "7  2022-12-27T15:33:00.000Z   \n",
       "8  2022-12-26T17:34:45.000Z   \n",
       "9  2022-12-24T16:23:14.000Z   \n",
       "\n",
       "                                                text                   id  \\\n",
       "0  @thatginamiller @Marlen9165 @EuropeanPowell An...  1608090407920877571   \n",
       "1  RT @agriculture_ie: #HaveYourSay on Ireland’s ...  1608087703995695106   \n",
       "2  RT @agriculture_ie: #HaveYourSay on Ireland’s ...  1608061309006020611   \n",
       "3  RT @agriculture_ie: #HaveYourSay on Ireland’s ...  1608051985311227905   \n",
       "4  RT @agriculture_ie: #HaveYourSay on Ireland’s ...  1608044907532353537   \n",
       "5  RT @agriculture_ie: #HaveYourSay on Ireland’s ...  1607825797380968449   \n",
       "6  RT @agriculture_ie: #HaveYourSay on Ireland’s ...  1607812735462416384   \n",
       "7  #HaveYourSay on Ireland’s #publicconsultation ...  1607761471601053696   \n",
       "8  @castlvillageman Had beef pork and turkey on o...  1607429725487521793   \n",
       "9  I learned extensively about the entire catalog...  1606686949619679232   \n",
       "\n",
       "            author_id edit_history_tweet_ids  \n",
       "0          2654992992  [1608090407920877571]  \n",
       "1          1135404206  [1608087703995695106]  \n",
       "2           148000327  [1608061309006020611]  \n",
       "3          1520393858  [1608051985311227905]  \n",
       "4            92012686  [1608044907532353537]  \n",
       "5           719397543  [1607825797380968449]  \n",
       "6           367646448  [1607812735462416384]  \n",
       "7          2589328316  [1607761471601053696]  \n",
       "8           622743271  [1607429725487521793]  \n",
       "9  768959213171249152  [1606686949619679232]  "
      ]
     },
     "execution_count": 54,
     "metadata": {},
     "output_type": "execute_result"
    }
   ],
   "source": [
    "pestTweets"
   ]
  },
  {
   "cell_type": "code",
   "execution_count": null,
   "id": "93cfdfca-6e0b-45e2-944d-001cc514ac2f",
   "metadata": {},
   "outputs": [],
   "source": []
  },
  {
   "cell_type": "code",
   "execution_count": 55,
   "id": "c86b43fd-1a9a-4ca6-a6a4-6e66a5fe3c11",
   "metadata": {},
   "outputs": [],
   "source": [
    "#pestTweets.to_csv(r\"C:\\Users\\cianw\\Documents\\dataAnalytics\\CA2\\Data\\Datasets\\irishPesticideTweets.csv\")"
   ]
  },
  {
   "cell_type": "code",
   "execution_count": null,
   "id": "22bceb60-0577-4a4e-ba78-6bd50f14d58d",
   "metadata": {},
   "outputs": [],
   "source": []
  }
 ],
 "metadata": {
  "kernelspec": {
   "display_name": "Python 3 (ipykernel)",
   "language": "python",
   "name": "python3"
  },
  "language_info": {
   "codemirror_mode": {
    "name": "ipython",
    "version": 3
   },
   "file_extension": ".py",
   "mimetype": "text/x-python",
   "name": "python",
   "nbconvert_exporter": "python",
   "pygments_lexer": "ipython3",
   "version": "3.9.13"
  }
 },
 "nbformat": 4,
 "nbformat_minor": 5
}
